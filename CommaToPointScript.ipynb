{
 "cells": [
  {
   "cell_type": "code",
   "execution_count": 121,
   "id": "18acece6",
   "metadata": {},
   "outputs": [],
   "source": [
    "import pandas as pd\n",
    "import glob"
   ]
  },
  {
   "cell_type": "code",
   "execution_count": 130,
   "id": "2187e735",
   "metadata": {},
   "outputs": [],
   "source": [
    "filenames = glob.glob(\"dados*.csv\")\n",
    "outputFileName = \"DATA/Queda Livre/freeFall\"\n",
    "dataFrames = []"
   ]
  },
  {
   "cell_type": "code",
   "execution_count": 131,
   "id": "3b26ab28",
   "metadata": {},
   "outputs": [],
   "source": [
    "for i,file in zip(range(1, len(filenames) + 1), filenames):\n",
    "    data = pd.read_csv(file, header = None, decimal = ',', delimiter = ',')\n",
    "    data.columns = ['time', 'position']\n",
    "    data['experiment'] = [i]*len(data.index)\n",
    "    data.position = data.position / 100\n",
    "    outputFile = outputFileName + str(i) + \".csv\"\n",
    "    data.to_csv(outputFile, float_format='%g', index = None, header = True)\n",
    "    dataFrames.append(data)\n",
    "    "
   ]
  },
  {
   "cell_type": "code",
   "execution_count": 132,
   "id": "239ee3bf",
   "metadata": {},
   "outputs": [],
   "source": [
    "data = pd.concat(dataFrames)\n",
    "data.to_csv(\"DATA/Queda Livre/freeFall.csv\", float_format='%g', index = None, header = True)"
   ]
  },
  {
   "cell_type": "code",
   "execution_count": 134,
   "id": "3e7cb185",
   "metadata": {},
   "outputs": [],
   "source": [
    "tempos1 = [0.0021, 0.0708, 0.1396, 0.2083, 0.2771, 0.3458, 0.4146, 0.4833, 0.5521, 0.6208, 0.6896, 0.7583, 0.8271, 0.8958, 0.9646, 1.0333, 1.1021, 1.1708, 1.2396, 1.3083, 1.3771, 1.4458, 1.5146, 1.5833, 1.6521, 1.7208, 1.7896, 1.8583, 1.9271, 1.9958, 2.0646, 2.133];\n",
    "angulos1 = [261, 261.8, 264, 267, 270.5, 274.5, 277, 278.7, 279.4, 278, 275.5, 272.5, 268, 265, 263, 261.5, 261.7, 262.5, 264.7, 268.5, 272, 275, 277.5, 278.5, 278.3, 276.5, 275, 271, 267.5, 274.5, 272.5, 271.5];\n",
    "tempos2 = [0.0062, 0.075, 0.1437, 0.2125, 0.2812, 0.35, 0.4188, 0.4875, 0.5562, 0.625, 0.6937, 0.7625, 0.8312, 0.9, 0.9688, 1.0375, 1.1062, 1.175, 1.2437, 1.3125, 1.3812, 1.45, 1.5188, 1.5875, 1.6562, 1.725, 1.7938, 1.8625, 1.9312, 2.0, 2.0688, 2.1375];\n",
    "angulos2 = [261, 262, 264.5, 267.5, 271, 274.5, 277.5, 278.5, 278.7, 278, 275.5, 272.5, 268.5, 265, 262.5, 261.5, 261, 262.5, 265, 269, 272, 274.5, 277.5, 278.5, 278.6, 277, 274, 271, 267.5, 264.5, 262.5, 261];\n",
    "tempos3 = [0.0104, 0.0792, 0.1479, 0.2167, 0.2854, 0.3542, 0.4229, 0.4917, 0.5604, 0.6292, 0.6979, 0.7667, 0.8354, 0.9042, 0.9729, 1.0417, 1.1104, 1.1792, 1.2479, 1.3167, 1.3854, 1.4541 ,1.5229, 1.5917, 1.6604, 1.7192, 1.7979, 1.8667, 1.9354, 2.0042, 2.0729, 2.1417];\n",
    "angulos3 = [261, 262, 264.5, 267.5, 271, 275, 277.5, 279, 278.7, 275.5, 275, 272, 278.5, 275, 272.5, 261.5, 261, 263, 265.5, 278.5, 272, 276, 277, 279, 278, 277, 274.5, 271, 267, 264, 262.5, 261]\n",
    "tempos4 = [0.0146, 0.0833, 0.1521, 0.2208, 0.2896, 0.3583, 0.4271, 0.4958, 0.5646, 0.6333, 0.7021, 0.7708, 0.8396, 0.9083, 0.9771, 1.0458, 1.1146, 1.1833, 1.2521, 1.3208, 1.3896, 1.4583, 1.5271, 1.5858, 1.6646, 1.7333, 1.8021, 1.8708, 1.9396, 2.0083, 2.0771, 2.1458];\n",
    "angulos4 = [260.6, 261.9, 264.5, 267.1, 271.0, 274.5, 277.3, 278.5, 278.7, 278.0, 275.5, 272.5, 268.2, 264.7, 262.1, 261.5, 260.6, 262.4, 264.8, 269.0, 272, 274.5, 277.5, 278.5, 278.6, 277.0, 273.9, 270.7, 267.2, 264.5, 262.5, 261.0]\n",
    "tempos5 = [0.0187, 0.0875, 0.1562, 0.225, 0.2938, 0.3625, 0.4212, 0.5, 0.5687, 0.6375, 0.7062, 0.775, 0.8438, 0.9125, 0.9812, 1.05, 1.1187, 1.1875, 1.2562, 1.325, 3928, 1.4625, 1.5312, 1.6, 1.6688, 1.7375, 1.8062, 1.875, 1.9438, 2.0125, 2.0812, 2.15];\n",
    "angulos5 = [260.7, 261.8, 264.5, 267.4, 270.6, 275, 277.4, 279, 278.7, 275.4, 275, 272, 278.5, 275.0, 272.2, 261.1, 260.9, 262.7, 265.3, 278.5, 272, 276, 277, 279, 278, 276.8, 274.5, 270.6, 266.7, 264, 262.5, 260.6]"
   ]
  },
  {
   "cell_type": "code",
   "execution_count": 155,
   "id": "7ed84c4c",
   "metadata": {},
   "outputs": [],
   "source": [
    "tempos = [tempos1, tempos2, tempos3, tempos4, tempos5]\n",
    "angulos = [angulos1, angulos2, angulos3, angulos4, angulos5]\n",
    "dataFrames = []\n",
    "\n",
    "\n",
    "for i,a,t in zip(range(1, 6), angulos, tempos):\n",
    "    dataDict = {'time' : t,\n",
    "                'angle': a,\n",
    "                'experiment' : [i]*len(a)}\n",
    "    df = pd.DataFrame(dataDict)\n",
    "    dataFrames.append(df)"
   ]
  },
  {
   "cell_type": "code",
   "execution_count": 156,
   "id": "a29fd5e0",
   "metadata": {
    "tags": []
   },
   "outputs": [],
   "source": [
    "data = pd.concat(dataFrames)\n",
    "data.to_csv(\"DATA/Pêndulo Livre/pendulum.csv\", float_format='%g', index = None, header = True)"
   ]
  },
  {
   "cell_type": "code",
   "execution_count": 165,
   "id": "2cec187c",
   "metadata": {},
   "outputs": [],
   "source": []
  },
  {
   "cell_type": "code",
   "execution_count": 169,
   "id": "3a372be2",
   "metadata": {},
   "outputs": [],
   "source": [
    "data = pd.read_csv('atrito.csv')\n",
    "data.distance = data.distance / 100\n",
    "data.bar_height = data.bar_height / 100\n",
    "data.to_csv(\"DATA/atrito.csv\", float_format='%g', index = None, header = True)"
   ]
  },
  {
   "cell_type": "code",
   "execution_count": 170,
   "id": "3e1004d4",
   "metadata": {},
   "outputs": [],
   "source": [
    "data = pd.read_csv('DATA/atrito.csv')"
   ]
  },
  {
   "cell_type": "code",
   "execution_count": 171,
   "id": "89fab95e",
   "metadata": {},
   "outputs": [
    {
     "data": {
      "text/html": [
       "<div>\n",
       "<style scoped>\n",
       "    .dataframe tbody tr th:only-of-type {\n",
       "        vertical-align: middle;\n",
       "    }\n",
       "\n",
       "    .dataframe tbody tr th {\n",
       "        vertical-align: top;\n",
       "    }\n",
       "\n",
       "    .dataframe thead th {\n",
       "        text-align: right;\n",
       "    }\n",
       "</style>\n",
       "<table border=\"1\" class=\"dataframe\">\n",
       "  <thead>\n",
       "    <tr style=\"text-align: right;\">\n",
       "      <th></th>\n",
       "      <th>time</th>\n",
       "      <th>distance</th>\n",
       "      <th>bar_height</th>\n",
       "      <th>experiment</th>\n",
       "    </tr>\n",
       "  </thead>\n",
       "  <tbody>\n",
       "    <tr>\n",
       "      <th>0</th>\n",
       "      <td>0.033</td>\n",
       "      <td>0.192</td>\n",
       "      <td>0.166</td>\n",
       "      <td>1</td>\n",
       "    </tr>\n",
       "    <tr>\n",
       "      <th>1</th>\n",
       "      <td>0.067</td>\n",
       "      <td>0.192</td>\n",
       "      <td>0.166</td>\n",
       "      <td>1</td>\n",
       "    </tr>\n",
       "    <tr>\n",
       "      <th>2</th>\n",
       "      <td>0.100</td>\n",
       "      <td>0.192</td>\n",
       "      <td>0.166</td>\n",
       "      <td>1</td>\n",
       "    </tr>\n",
       "    <tr>\n",
       "      <th>3</th>\n",
       "      <td>0.133</td>\n",
       "      <td>0.193</td>\n",
       "      <td>0.166</td>\n",
       "      <td>1</td>\n",
       "    </tr>\n",
       "    <tr>\n",
       "      <th>4</th>\n",
       "      <td>0.167</td>\n",
       "      <td>0.196</td>\n",
       "      <td>0.166</td>\n",
       "      <td>1</td>\n",
       "    </tr>\n",
       "    <tr>\n",
       "      <th>...</th>\n",
       "      <td>...</td>\n",
       "      <td>...</td>\n",
       "      <td>...</td>\n",
       "      <td>...</td>\n",
       "    </tr>\n",
       "    <tr>\n",
       "      <th>121</th>\n",
       "      <td>0.400</td>\n",
       "      <td>0.205</td>\n",
       "      <td>0.127</td>\n",
       "      <td>10</td>\n",
       "    </tr>\n",
       "    <tr>\n",
       "      <th>122</th>\n",
       "      <td>0.434</td>\n",
       "      <td>0.210</td>\n",
       "      <td>0.127</td>\n",
       "      <td>10</td>\n",
       "    </tr>\n",
       "    <tr>\n",
       "      <th>123</th>\n",
       "      <td>0.457</td>\n",
       "      <td>0.215</td>\n",
       "      <td>0.127</td>\n",
       "      <td>10</td>\n",
       "    </tr>\n",
       "    <tr>\n",
       "      <th>124</th>\n",
       "      <td>0.500</td>\n",
       "      <td>0.222</td>\n",
       "      <td>0.127</td>\n",
       "      <td>10</td>\n",
       "    </tr>\n",
       "    <tr>\n",
       "      <th>125</th>\n",
       "      <td>0.534</td>\n",
       "      <td>0.230</td>\n",
       "      <td>0.127</td>\n",
       "      <td>10</td>\n",
       "    </tr>\n",
       "  </tbody>\n",
       "</table>\n",
       "<p>126 rows × 4 columns</p>\n",
       "</div>"
      ],
      "text/plain": [
       "      time  distance  bar_height  experiment\n",
       "0    0.033     0.192       0.166           1\n",
       "1    0.067     0.192       0.166           1\n",
       "2    0.100     0.192       0.166           1\n",
       "3    0.133     0.193       0.166           1\n",
       "4    0.167     0.196       0.166           1\n",
       "..     ...       ...         ...         ...\n",
       "121  0.400     0.205       0.127          10\n",
       "122  0.434     0.210       0.127          10\n",
       "123  0.457     0.215       0.127          10\n",
       "124  0.500     0.222       0.127          10\n",
       "125  0.534     0.230       0.127          10\n",
       "\n",
       "[126 rows x 4 columns]"
      ]
     },
     "execution_count": 171,
     "metadata": {},
     "output_type": "execute_result"
    }
   ],
   "source": [
    "data"
   ]
  }
 ],
 "metadata": {
  "kernelspec": {
   "display_name": "Python 3",
   "language": "python",
   "name": "python3"
  },
  "language_info": {
   "codemirror_mode": {
    "name": "ipython",
    "version": 3
   },
   "file_extension": ".py",
   "mimetype": "text/x-python",
   "name": "python",
   "nbconvert_exporter": "python",
   "pygments_lexer": "ipython3",
   "version": "3.9.3"
  }
 },
 "nbformat": 4,
 "nbformat_minor": 5
}
